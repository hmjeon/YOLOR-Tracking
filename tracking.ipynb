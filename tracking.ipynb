{
 "cells": [
  {
   "cell_type": "markdown",
   "id": "52f56c2a-fee8-469a-bc2f-ccc3437b1226",
   "metadata": {},
   "source": [
    "# **YOLOR + DeepSORT 를 활용한 Object Tracking**"
   ]
  },
  {
   "cell_type": "markdown",
   "id": "ad01575b-b7cc-45c0-81aa-f73b291d5eb1",
   "metadata": {},
   "source": [
    "## **1. Weight 및 데이터 다운로드**"
   ]
  },
  {
   "cell_type": "code",
   "execution_count": null,
   "id": "6a353d69-d425-4c6c-ace8-d44b889e8548",
   "metadata": {},
   "outputs": [],
   "source": [
    "%cd /scratch/hyungmin/coding/YOLOR-Tracking"
   ]
  },
  {
   "cell_type": "code",
   "execution_count": null,
   "id": "d0494391-3cbb-48bd-b7f8-9780d2387352",
   "metadata": {
    "tags": []
   },
   "outputs": [],
   "source": [
    "!wget -O dataset.zip https://www.dropbox.com/s/wjbk8dmyr31alo7/dataset.zip?dl=1\n",
    "!unzip dataset.zip -d dataset\n",
    "!rm -rf dataset.zip"
   ]
  },
  {
   "cell_type": "code",
   "execution_count": null,
   "id": "b83133ca-1913-4bc1-922b-b7c2b26dfc0e",
   "metadata": {},
   "outputs": [],
   "source": [
    "# YOLOR-P6, W6, E6, D6\n",
    "!wget -O yolor_p6.pt https://www.dropbox.com/s/ldyk3dzuuu3y9xx/yolor_p6.pt?dl=1\n",
    "#!wget -O yolor_w6.pt https://www.dropbox.com/s/cqrxp1tlfk7sb51/yolor_w6.pt?dl=1\n",
    "#!wget -O yolor_d6.pt https://www.dropbox.com/s/znl5pfwcyr8ylcb/yolor-d6.pt?dl=1\n",
    "#!wget -O yolor_e6.py https://www.dropbox.com/s/ql8e89jwi6wewbc/yolor-e6.pt?dl=1"
   ]
  },
  {
   "cell_type": "markdown",
   "id": "d83aabd2-1dc0-44c2-b6bf-8d62285405c4",
   "metadata": {},
   "source": [
    "## **2. YOLOR DeepSORT 추론**"
   ]
  },
  {
   "cell_type": "code",
   "execution_count": null,
   "id": "a20a92ee-057c-4da2-90f4-39e054947cc4",
   "metadata": {},
   "outputs": [],
   "source": [
    "in_path = \"dataset/videos/\"\n",
    "out_path = \"dataset/videos/outputs/\""
   ]
  },
  {
   "cell_type": "code",
   "execution_count": null,
   "id": "e2758c0f-d1c6-4521-9b73-0febf08ed3e4",
   "metadata": {
    "tags": []
   },
   "outputs": [],
   "source": [
    "!python yolor_deepsort/detect_track_trails.py --source $in_path \\\n",
    "                --output $out_path \\\n",
    "                --cfg yolor_deepsort/cfg/yolor_p6.cfg \\\n",
    "                --weights yolor_p6.pt \\\n",
    "                --data yolor_deepsort/deep_sort_pytorch/configs/deep_sort.yaml \\\n",
    "                --names yolor_deepsort/data/coco.names \\\n",
    "                --conf 0.25 \\\n",
    "                --img-size 1280 \\\n",
    "                --device 0 # --view-img"
   ]
  },
  {
   "cell_type": "code",
   "execution_count": null,
   "id": "1844e8d9-1b0f-4d15-b02e-7edf967901f5",
   "metadata": {
    "tags": []
   },
   "outputs": [],
   "source": [
    "!python yolor_deepsort/detect_track.py --source $in_path \\\n",
    "                --output $out_path \\\n",
    "                --cfg yolor_deepsort/cfg/yolor_p6.cfg \\\n",
    "                --weights yolor_p6.pt \\\n",
    "                --data yolor_deepsort/deep_sort_pytorch/configs/deep_sort.yaml \\\n",
    "                --names yolor_deepsort/data/coco.names \\\n",
    "                --conf 0.25 \\\n",
    "                --img-size 1280 \\\n",
    "                --device 0 # --view-img"
   ]
  },
  {
   "cell_type": "code",
   "execution_count": null,
   "id": "35388014-c7ee-4ada-818b-a7ecd38cb9b2",
   "metadata": {
    "tags": []
   },
   "outputs": [],
   "source": [
    "!python yolor_deepsort/detect_track_dist.py --source $in_path \\\n",
    "                --output $out_path \\\n",
    "                --cfg yolor_deepsort/cfg/yolor_p6.cfg \\\n",
    "                --weights yolor_p6.pt \\\n",
    "                --data yolor_deepsort/deep_sort_pytorch/configs/deep_sort.yaml \\\n",
    "                --names yolor_deepsort/data/coco.names \\\n",
    "                --conf 0.25 \\\n",
    "                --img-size 1280 \\\n",
    "                --device 0 # --view-img"
   ]
  }
 ],
 "metadata": {
  "kernelspec": {
   "display_name": "Python [conda env:yolor]",
   "language": "python",
   "name": "conda-env-yolor-py"
  },
  "language_info": {
   "codemirror_mode": {
    "name": "ipython",
    "version": 3
   },
   "file_extension": ".py",
   "mimetype": "text/x-python",
   "name": "python",
   "nbconvert_exporter": "python",
   "pygments_lexer": "ipython3",
   "version": "3.8.13"
  }
 },
 "nbformat": 4,
 "nbformat_minor": 5
}
