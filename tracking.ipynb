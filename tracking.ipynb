{
 "cells": [
  {
   "cell_type": "code",
   "execution_count": null,
   "id": "6a353d69-d425-4c6c-ace8-d44b889e8548",
   "metadata": {},
   "outputs": [],
   "source": [
    "%cd /scratch/hyungmin/coding/YOLOR-Tracking"
   ]
  },
  {
   "cell_type": "code",
   "execution_count": 46,
   "id": "e2758c0f-d1c6-4521-9b73-0febf08ed3e4",
   "metadata": {
    "collapsed": true,
    "jupyter": {
     "outputs_hidden": true
    },
    "tags": []
   },
   "outputs": [
    {
     "name": "stdout",
     "output_type": "stream",
     "text": [
      "Namespace(agnostic_nms=False, augment=False, cfg='yolor_deepsort/cfg/yolor_p6.cfg', classes=None, conf_thres=0.25, data='yolor_deepsort/deep_sort_pytorch/configs/deep_sort.yaml', device='0', img_size=1280, iou_thres=0.5, names='yolor_deepsort/data/coco.names', output='dataset/outputs', save_txt=False, source='dataset', trailslen=64, update=False, view_img=False, weights=['yolor_p6.pt'])\n",
      "/scratch/hyungmin/anaconda3/envs/yolor/lib/python3.8/site-packages/torch/nn/functional.py:718: UserWarning: Named tensors and all their associated APIs are an experimental feature and subject to change. Please do not use them for anything important until they are released as stable. (Triggered internally at  /pytorch/c10/core/TensorImpl.h:1156.)\n",
      "  return torch.max_pool2d(input, kernel_size, stride, padding, dilation, ceil_mode)\n",
      "video 1/2 (1/341) /scratch/hyungmin/coding/YOLOR-Tracking/dataset/test_01.mp4: 768x1280 36 persons, 2 backpacks, 6 handbags, 1 tennis rackets, Done. (0.026s)\n",
      "video 1/2 (2/341) /scratch/hyungmin/coding/YOLOR-Tracking/dataset/test_01.mp4: 768x1280 34 persons, 2 backpacks, 5 handbags, 1 tennis rackets, Done. (0.018s)\n",
      "video 1/2 (3/341) /scratch/hyungmin/coding/YOLOR-Tracking/dataset/test_01.mp4: 768x1280 35 persons, 2 backpacks, 6 handbags, 1 tennis rackets, Done. (0.017s)\n",
      "video 1/2 (4/341) /scratch/hyungmin/coding/YOLOR-Tracking/dataset/test_01.mp4: 768x1280 38 persons, 2 backpacks, 6 handbags, 1 tennis rackets, Done. (0.017s)\n",
      "video 1/2 (5/341) /scratch/hyungmin/coding/YOLOR-Tracking/dataset/test_01.mp4: 768x1280 38 persons, 1 backpacks, 6 handbags, 1 tennis rackets, Done. (0.019s)\n",
      "video 1/2 (6/341) /scratch/hyungmin/coding/YOLOR-Tracking/dataset/test_01.mp4: 768x1280 38 persons, 1 backpacks, 5 handbags, Done. (0.019s)\n",
      "video 1/2 (7/341) /scratch/hyungmin/coding/YOLOR-Tracking/dataset/test_01.mp4: 768x1280 38 persons, 1 backpacks, 5 handbags, Done. (0.019s)\n",
      "video 1/2 (8/341) /scratch/hyungmin/coding/YOLOR-Tracking/dataset/test_01.mp4: 768x1280 36 persons, 1 backpacks, 5 handbags, Done. (0.018s)\n",
      "video 1/2 (9/341) /scratch/hyungmin/coding/YOLOR-Tracking/dataset/test_01.mp4: 768x1280 34 persons, 3 backpacks, 5 handbags, Done. (0.018s)\n",
      "video 1/2 (10/341) /scratch/hyungmin/coding/YOLOR-Tracking/dataset/test_01.mp4: 768x1280 35 persons, 3 backpacks, 5 handbags, 1 suitcases, Done. (0.019s)\n",
      "video 1/2 (11/341) /scratch/hyungmin/coding/YOLOR-Tracking/dataset/test_01.mp4: 768x1280 35 persons, 3 backpacks, 4 handbags, 1 suitcases, Done. (0.019s)\n",
      "video 1/2 (12/341) /scratch/hyungmin/coding/YOLOR-Tracking/dataset/test_01.mp4: 768x1280 35 persons, 2 backpacks, 5 handbags, 1 suitcases, Done. (0.018s)\n",
      "video 1/2 (13/341) /scratch/hyungmin/coding/YOLOR-Tracking/dataset/test_01.mp4: 768x1280 37 persons, 3 backpacks, 7 handbags, 1 suitcases, Done. (0.018s)\n",
      "video 1/2 (14/341) /scratch/hyungmin/coding/YOLOR-Tracking/dataset/test_01.mp4: 768x1280 35 persons, 3 backpacks, 8 handbags, Done. (0.019s)\n",
      "video 1/2 (15/341) /scratch/hyungmin/coding/YOLOR-Tracking/dataset/test_01.mp4: 768x1280 35 persons, 2 backpacks, 8 handbags, Done. (0.026s)\n",
      "video 1/2 (16/341) /scratch/hyungmin/coding/YOLOR-Tracking/dataset/test_01.mp4: 768x1280 35 persons, 3 backpacks, 8 handbags, Done. (0.020s)\n",
      "video 1/2 (17/341) /scratch/hyungmin/coding/YOLOR-Tracking/dataset/test_01.mp4: 768x1280 36 persons, 2 backpacks, 7 handbags, Done. (0.020s)\n",
      "video 1/2 (18/341) /scratch/hyungmin/coding/YOLOR-Tracking/dataset/test_01.mp4: 768x1280 35 persons, 3 backpacks, 6 handbags, Done. (0.021s)\n",
      "video 1/2 (19/341) /scratch/hyungmin/coding/YOLOR-Tracking/dataset/test_01.mp4: 768x1280 37 persons, 4 backpacks, 6 handbags, Done. (0.020s)\n",
      "video 1/2 (20/341) /scratch/hyungmin/coding/YOLOR-Tracking/dataset/test_01.mp4: 768x1280 35 persons, 2 backpacks, 8 handbags, Done. (0.021s)\n",
      "video 1/2 (21/341) /scratch/hyungmin/coding/YOLOR-Tracking/dataset/test_01.mp4: 768x1280 34 persons, 2 backpacks, 8 handbags, Done. (0.020s)\n",
      "video 1/2 (22/341) /scratch/hyungmin/coding/YOLOR-Tracking/dataset/test_01.mp4: 768x1280 35 persons, 5 backpacks, 8 handbags, 1 tennis rackets, Done. (0.021s)\n",
      "video 1/2 (23/341) /scratch/hyungmin/coding/YOLOR-Tracking/dataset/test_01.mp4: 768x1280 37 persons, 6 backpacks, 8 handbags, 1 tennis rackets, Done. (0.021s)\n",
      "video 1/2 (24/341) /scratch/hyungmin/coding/YOLOR-Tracking/dataset/test_01.mp4: 768x1280 37 persons, 4 backpacks, 9 handbags, 1 tennis rackets, Done. (0.020s)\n",
      "video 1/2 (25/341) /scratch/hyungmin/coding/YOLOR-Tracking/dataset/test_01.mp4: 768x1280 37 persons, 4 backpacks, 6 handbags, 1 tennis rackets, Done. (0.021s)\n",
      "video 1/2 (26/341) /scratch/hyungmin/coding/YOLOR-Tracking/dataset/test_01.mp4: 768x1280 37 persons, 4 backpacks, 8 handbags, 1 tennis rackets, Done. (0.020s)\n",
      "video 1/2 (27/341) /scratch/hyungmin/coding/YOLOR-Tracking/dataset/test_01.mp4: 768x1280 36 persons, 5 backpacks, 8 handbags, 1 tennis rackets, Done. (0.021s)\n",
      "video 1/2 (28/341) /scratch/hyungmin/coding/YOLOR-Tracking/dataset/test_01.mp4: 768x1280 38 persons, 4 backpacks, 7 handbags, 1 tennis rackets, Done. (0.020s)\n",
      "video 1/2 (29/341) /scratch/hyungmin/coding/YOLOR-Tracking/dataset/test_01.mp4: 768x1280 35 persons, 3 backpacks, 8 handbags, 1 tennis rackets, Done. (0.020s)\n",
      "video 1/2 (30/341) /scratch/hyungmin/coding/YOLOR-Tracking/dataset/test_01.mp4: 768x1280 34 persons, 5 backpacks, 10 handbags, 1 tennis rackets, Done. (0.021s)\n",
      "video 1/2 (31/341) /scratch/hyungmin/coding/YOLOR-Tracking/dataset/test_01.mp4: 768x1280 38 persons, 5 backpacks, 5 handbags, 1 tennis rackets, Done. (0.020s)\n",
      "video 1/2 (32/341) /scratch/hyungmin/coding/YOLOR-Tracking/dataset/test_01.mp4: 768x1280 34 persons, 5 backpacks, 6 handbags, 1 tennis rackets, Done. (0.021s)\n",
      "video 1/2 (33/341) /scratch/hyungmin/coding/YOLOR-Tracking/dataset/test_01.mp4: 768x1280 35 persons, 5 backpacks, 5 handbags, 1 tennis rackets, Done. (0.020s)\n",
      "video 1/2 (34/341) /scratch/hyungmin/coding/YOLOR-Tracking/dataset/test_01.mp4: 768x1280 34 persons, 4 backpacks, 6 handbags, 1 tennis rackets, Done. (0.020s)\n",
      "video 1/2 (35/341) /scratch/hyungmin/coding/YOLOR-Tracking/dataset/test_01.mp4: 768x1280 34 persons, 3 backpacks, 6 handbags, Done. (0.026s)\n",
      "video 1/2 (36/341) /scratch/hyungmin/coding/YOLOR-Tracking/dataset/test_01.mp4: 768x1280 34 persons, 4 backpacks, 7 handbags, Done. (0.025s)\n",
      "video 1/2 (37/341) /scratch/hyungmin/coding/YOLOR-Tracking/dataset/test_01.mp4: 768x1280 34 persons, 3 backpacks, 4 handbags, Done. (0.026s)\n",
      "^C\n",
      "video 1/2 (38/341) /scratch/hyungmin/coding/YOLOR-Tracking/dataset/test_01.mp4: Traceback (most recent call last):\n",
      "  File \"yolor_deepsort/detect_track_trails.py\", line 326, in <module>\n",
      "    detect()\n",
      "  File \"yolor_deepsort/detect_track_trails.py\", line 204, in detect\n",
      "    pred = non_max_suppression(pred, opt.conf_thres, opt.iou_thres, classes=opt.classes, agnostic=opt.agnostic_nms)\n",
      "  File \"/scratch/hyungmin/coding/YOLOR-Tracking/yolor_deepsort/utils/general.py\", line 312, in non_max_suppression\n",
      "    box = xywh2xyxy(x[:, :4])\n",
      "  File \"/scratch/hyungmin/coding/YOLOR-Tracking/yolor_deepsort/utils/general.py\", line 157, in xywh2xyxy\n",
      "    y[:, 1] = x[:, 1] - x[:, 3] / 2  # top left y\n",
      "KeyboardInterrupt\n"
     ]
    }
   ],
   "source": [
    "!python yolor_deepsort/detect_track_trails.py \\\n",
    "        --source dataset \\\n",
    "        --output dataset/outputs \\\n",
    "        --cfg yolor_deepsort/cfg/yolor_p6.cfg \\\n",
    "        --weights yolor_p6.pt \\\n",
    "        --data yolor_deepsort/deep_sort_pytorch/configs/deep_sort.yaml \\\n",
    "        --names yolor_deepsort/data/coco.names \\\n",
    "        --conf 0.25 \\\n",
    "        --img-size 1280 \\\n",
    "        --device 0 # --view-img"
   ]
  },
  {
   "cell_type": "code",
   "execution_count": null,
   "id": "1844e8d9-1b0f-4d15-b02e-7edf967901f5",
   "metadata": {
    "tags": []
   },
   "outputs": [],
   "source": [
    "!python yolor_deepsort/detect_track.py \\\n",
    "        --source dataset \\\n",
    "        --output dataset/outputs \\\n",
    "        --cfg yolor_deepsort/cfg/yolor_p6.cfg \\\n",
    "        --weights yolor_p6.pt \\\n",
    "        --data yolor_deepsort/deep_sort_pytorch/configs/deep_sort.yaml \\\n",
    "        --names yolor_deepsort/data/coco.names \\\n",
    "        --conf 0.25 \\\n",
    "        --img-size 1280 \\\n",
    "        --device 0 # --view-img"
   ]
  },
  {
   "cell_type": "code",
   "execution_count": null,
   "id": "35388014-c7ee-4ada-818b-a7ecd38cb9b2",
   "metadata": {
    "tags": []
   },
   "outputs": [],
   "source": [
    "!python yolor_deepsort/detect_track_dist.py \\\n",
    "        --source dataset \\\n",
    "        --output dataset/outputs \\\n",
    "        --cfg yolor_deepsort/cfg/yolor_p6.cfg \\\n",
    "        --weights yolor_p6.pt \\\n",
    "        --data yolor_deepsort/deep_sort_pytorch/configs/deep_sort.yaml \\\n",
    "        --names yolor_deepsort/data/coco.names \\\n",
    "        --conf 0.25 \\\n",
    "        --img-size 1280 \\\n",
    "        --device 0 # --view-img"
   ]
  }
 ],
 "metadata": {
  "kernelspec": {
   "display_name": "Python [conda env:yolor]",
   "language": "python",
   "name": "conda-env-yolor-py"
  },
  "language_info": {
   "codemirror_mode": {
    "name": "ipython",
    "version": 3
   },
   "file_extension": ".py",
   "mimetype": "text/x-python",
   "name": "python",
   "nbconvert_exporter": "python",
   "pygments_lexer": "ipython3",
   "version": "3.8.13"
  }
 },
 "nbformat": 4,
 "nbformat_minor": 5
}
